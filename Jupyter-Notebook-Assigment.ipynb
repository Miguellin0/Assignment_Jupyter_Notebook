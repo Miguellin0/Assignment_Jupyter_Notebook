{
 "cells": [
  {
   "cell_type": "markdown",
   "id": "016799fa",
   "metadata": {},
   "source": [
    "# Data Science Tools and Ecosystem"
   ]
  },
  {
   "cell_type": "markdown",
   "id": "08f931cd",
   "metadata": {},
   "source": [
    "In this notebook, Data Science Tools and Ecosystem are summarized."
   ]
  },
  {
   "cell_type": "markdown",
   "id": "315e607f",
   "metadata": {},
   "source": [
    "Some of the popular languages that Data Scientists use are:\n",
    "1. R\n",
    "2. Python\n",
    "3. SQL\n"
   ]
  },
  {
   "cell_type": "markdown",
   "id": "a4a9033a",
   "metadata": {},
   "source": [
    "**Objectives:**\n",
    "* R\n",
    "* Python\n",
    "* SQL"
   ]
  },
  {
   "cell_type": "markdown",
   "id": "5aa9ba54",
   "metadata": {},
   "source": [
    "Some of the commonly used libraries used by Data Scientists include:\n",
    "1. Pandas\n",
    "2. TensorFlow\n",
    "3. NumP"
   ]
  },
  {
   "cell_type": "markdown",
   "id": "2c50c70c",
   "metadata": {},
   "source": [
    "| Data Science Tools | \n",
    "| -------------| \n",
    "| Jupyter Notebooks | \n",
    "| JupyterLab | \n",
    "| RStudio |"
   ]
  },
  {
   "cell_type": "markdown",
   "id": "b0ac9230",
   "metadata": {},
   "source": [
    "### Below are a few examples of evaluating arithmetic expressions in Python"
   ]
  },
  {
   "cell_type": "code",
   "execution_count": 17,
   "id": "6238e82a",
   "metadata": {},
   "outputs": [
    {
     "data": {
      "text/plain": [
       "17"
      ]
     },
     "execution_count": 17,
     "metadata": {},
     "output_type": "execute_result"
    }
   ],
   "source": [
    "(3*4)+5"
   ]
  },
  {
   "cell_type": "markdown",
   "id": "8e4ff232",
   "metadata": {},
   "source": [
    "This will convert 200 minutes to hours by diving by 60"
   ]
  },
  {
   "cell_type": "code",
   "execution_count": 21,
   "id": "e315d252",
   "metadata": {},
   "outputs": [
    {
     "data": {
      "text/plain": [
       "3.3333333333333335"
      ]
     },
     "execution_count": 21,
     "metadata": {},
     "output_type": "execute_result"
    }
   ],
   "source": [
    "200/60"
   ]
  },
  {
   "cell_type": "markdown",
   "id": "552d8c8d",
   "metadata": {},
   "source": [
    "## Author\n",
    "Miguel Lino"
   ]
  },
  {
   "cell_type": "code",
   "execution_count": null,
   "id": "8ed5e5c3",
   "metadata": {},
   "outputs": [],
   "source": []
  }
 ],
 "metadata": {
  "kernelspec": {
   "display_name": "Python 3 (ipykernel)",
   "language": "python",
   "name": "python3"
  },
  "language_info": {
   "codemirror_mode": {
    "name": "ipython",
    "version": 3
   },
   "file_extension": ".py",
   "mimetype": "text/x-python",
   "name": "python",
   "nbconvert_exporter": "python",
   "pygments_lexer": "ipython3",
   "version": "3.11.5"
  }
 },
 "nbformat": 4,
 "nbformat_minor": 5
}
